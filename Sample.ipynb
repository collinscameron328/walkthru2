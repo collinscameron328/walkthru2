{
 "cells": [
  {
   "cell_type": "markdown",
   "id": "5ca048eb-fae4-4536-a554-2b7df49367c2",
   "metadata": {},
   "source": [
    "## Walkthrough Sample Notbook"
   ]
  },
  {
   "cell_type": "markdown",
   "id": "f1c447ad-a0d2-4434-a556-63a200a08f0b",
   "metadata": {},
   "source": [
    "This is how I calculate `1+1`:"
   ]
  },
  {
   "cell_type": "code",
   "execution_count": 1,
   "id": "9a517b2c-9c44-4447-a6aa-bb6a72b43231",
   "metadata": {},
   "outputs": [
    {
     "data": {
      "text/plain": [
       "2"
      ]
     },
     "execution_count": 1,
     "metadata": {},
     "output_type": "execute_result"
    }
   ],
   "source": [
    "1+1"
   ]
  },
  {
   "cell_type": "code",
   "execution_count": 2,
   "id": "4e38a37a-97e3-4441-9408-79d9d0380d80",
   "metadata": {},
   "outputs": [],
   "source": [
    "from numpy import *"
   ]
  },
  {
   "cell_type": "markdown",
   "id": "cfa81737-b0ce-4ed7-a909-6ed870d246e6",
   "metadata": {},
   "source": [
    "Her is how I calculate `sin`:"
   ]
  },
  {
   "cell_type": "code",
   "execution_count": 3,
   "id": "80eee9a7-b253-40b3-9dee-3fa08599d299",
   "metadata": {},
   "outputs": [
    {
     "data": {
      "text/plain": [
       "array([0.84147098, 1.        ])"
      ]
     },
     "execution_count": 3,
     "metadata": {},
     "output_type": "execute_result"
    }
   ],
   "source": [
    "a =  array([1.0, pi/2])\n",
    "sin(a)"
   ]
  },
  {
   "cell_type": "code",
   "execution_count": null,
   "id": "a26ff91e-c20d-4dea-92b8-73faea3eae6c",
   "metadata": {},
   "outputs": [],
   "source": []
  }
 ],
 "metadata": {
  "kernelspec": {
   "display_name": "Python 3 (ipykernel)",
   "language": "python",
   "name": "python3"
  },
  "language_info": {
   "codemirror_mode": {
    "name": "ipython",
    "version": 3
   },
   "file_extension": ".py",
   "mimetype": "text/x-python",
   "name": "python",
   "nbconvert_exporter": "python",
   "pygments_lexer": "ipython3",
   "version": "3.10.12"
  }
 },
 "nbformat": 4,
 "nbformat_minor": 5
}
